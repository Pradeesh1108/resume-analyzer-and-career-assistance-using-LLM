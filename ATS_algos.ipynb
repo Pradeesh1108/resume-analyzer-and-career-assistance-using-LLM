{
 "cells": [
  {
   "cell_type": "code",
   "id": "initial_id",
   "metadata": {
    "collapsed": true,
    "ExecuteTime": {
     "end_time": "2024-11-16T16:41:56.520516Z",
     "start_time": "2024-11-16T16:41:54.843743Z"
    }
   },
   "source": [
    "import PyPDF2\n",
    "import docx2txt\n",
    "import nltk\n",
    "from nltk.corpus import stopwords\n",
    "from nltk.tokenize import word_tokenize\n",
    "nltk.download('stopwords')\n",
    "nltk.download('punkt')"
   ],
   "outputs": [
    {
     "name": "stderr",
     "output_type": "stream",
     "text": [
      "[nltk_data] Downloading package stopwords to\n",
      "[nltk_data]     /Users/pradeesh11/nltk_data...\n",
      "[nltk_data]   Package stopwords is already up-to-date!\n",
      "[nltk_data] Downloading package punkt to\n",
      "[nltk_data]     /Users/pradeesh11/nltk_data...\n",
      "[nltk_data]   Package punkt is already up-to-date!\n"
     ]
    },
    {
     "data": {
      "text/plain": [
       "True"
      ]
     },
     "execution_count": 1,
     "metadata": {},
     "output_type": "execute_result"
    }
   ],
   "execution_count": 1
  },
  {
   "metadata": {},
   "cell_type": "code",
   "outputs": [],
   "execution_count": null,
   "source": [
    "def extract_text_from_pdf(file_path):\n",
    "    pdf_file = open(file_path, 'rb')\n",
    "    pdf_reader = PyPDF2.PdfReader(pdf_file)\n",
    "    text = \"\"\n",
    "    for page in range(len(pdf_reader.pages)):\n",
    "        page_obj = pdf_reader.pages[page]\n",
    "        text += page_obj.extract_text()\n",
    "    pdf_file.close()\n",
    "    return text"
   ],
   "id": "74cdbff37d480ebe"
  },
  {
   "metadata": {},
   "cell_type": "code",
   "outputs": [],
   "execution_count": null,
   "source": [
    "def extract_text_from_docx(file_path):\n",
    "    text = docx2txt.process(file_path)\n",
    "    return text"
   ],
   "id": "460b5e370c1d4c88"
  },
  {
   "metadata": {},
   "cell_type": "code",
   "outputs": [],
   "execution_count": null,
   "source": [
    "def preprocess_text(text):\n",
    "    stop_words = set(stopwords.words('english'))\n",
    "    word_tokens = word_tokenize(text.lower())\n",
    "    filtered_tokens = [word for word in word_tokens if word.isalpha() and word not in stop_words]\n",
    "    return filtered_tokens"
   ],
   "id": "78b465f3effcf573"
  },
  {
   "metadata": {},
   "cell_type": "code",
   "outputs": [],
   "execution_count": null,
   "source": [
    "from sklearn.feature_extraction.text import TfidfVectorizer\n",
    "from sklearn.metrics.pairwise import cosine_similarity\n",
    "\n",
    "def calculate_similarity(resume_text, jd_text):\n",
    "    vectorizer = TfidfVectorizer()\n",
    "    vectors = vectorizer.fit_transform([resume_text, jd_text])\n",
    "    similarity_score = cosine_similarity(vectors)[0][1]\n",
    "    return similarity_score"
   ],
   "id": "5126e46dbba991a8"
  },
  {
   "metadata": {},
   "cell_type": "code",
   "outputs": [],
   "execution_count": null,
   "source": [
    "\n",
    "def main():\n",
    "    resume_file_path = \"Dataset/TESTINGFILE1.pdf\"\n",
    "    jd_file_path = \"Dataset/TESTINGFILE2.pdf\"\n",
    "\n",
    "    if resume_file_path.endswith('.pdf'):\n",
    "        resume_text = extract_text_from_pdf(resume_file_path) #pdf\n",
    "        jd_text = extract_text_from_pdf(jd_file_path)\n",
    "    elif resume_file_path.endswith('.docx'):\n",
    "        resume_text = extract_text_from_docx(resume_file_path) #docx\n",
    "        jd_text = extract_text_from_pdf(jd_file_path)\n",
    "    else:\n",
    "        print(\"Unsupported file format.\")\n",
    "        return\n",
    "    \n",
    "    preprocessed_resume_text = preprocess_text(resume_text)\n",
    "    preprocessed_jd_text = preprocess_text(jd_text)\n",
    "\n",
    "    similarity_score = calculate_similarity(' '.join(preprocessed_resume_text), ' '.join(preprocessed_jd_text))\n",
    "    print(\"The similarity score between the resume and job description is: \", similarity_score)\n",
    "\n",
    "if __name__ == \"__main__\":\n",
    "    main()"
   ],
   "id": "c40e712f5fb22ade"
  }
 ],
 "metadata": {
  "kernelspec": {
   "display_name": "Python 3",
   "language": "python",
   "name": "python3"
  },
  "language_info": {
   "codemirror_mode": {
    "name": "ipython",
    "version": 2
   },
   "file_extension": ".py",
   "mimetype": "text/x-python",
   "name": "python",
   "nbconvert_exporter": "python",
   "pygments_lexer": "ipython2",
   "version": "2.7.6"
  }
 },
 "nbformat": 4,
 "nbformat_minor": 5
}
